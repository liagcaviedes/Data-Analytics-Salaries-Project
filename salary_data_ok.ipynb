{
 "cells": [
  {
   "cell_type": "code",
   "execution_count": 80,
   "metadata": {},
   "outputs": [],
   "source": [
    "import numpy as np\n",
    "import pandas as pd\n",
    "import warnings\n",
    "warnings.filterwarnings('ignore')"
   ]
  },
  {
   "cell_type": "code",
   "execution_count": 128,
   "metadata": {},
   "outputs": [
    {
     "data": {
      "text/html": [
       "<div>\n",
       "<style scoped>\n",
       "    .dataframe tbody tr th:only-of-type {\n",
       "        vertical-align: middle;\n",
       "    }\n",
       "\n",
       "    .dataframe tbody tr th {\n",
       "        vertical-align: top;\n",
       "    }\n",
       "\n",
       "    .dataframe thead th {\n",
       "        text-align: right;\n",
       "    }\n",
       "</style>\n",
       "<table border=\"1\" class=\"dataframe\">\n",
       "  <thead>\n",
       "    <tr style=\"text-align: right;\">\n",
       "      <th></th>\n",
       "      <th>work_year</th>\n",
       "      <th>experience_level</th>\n",
       "      <th>employment_type</th>\n",
       "      <th>job_title</th>\n",
       "      <th>salary</th>\n",
       "      <th>salary_currency</th>\n",
       "      <th>salary_in_usd</th>\n",
       "      <th>employee_residence</th>\n",
       "      <th>remote_ratio</th>\n",
       "      <th>company_location</th>\n",
       "      <th>company_size</th>\n",
       "    </tr>\n",
       "  </thead>\n",
       "  <tbody>\n",
       "    <tr>\n",
       "      <th>0</th>\n",
       "      <td>2023</td>\n",
       "      <td>SE</td>\n",
       "      <td>FT</td>\n",
       "      <td>Principal Data Scientist</td>\n",
       "      <td>80000</td>\n",
       "      <td>EUR</td>\n",
       "      <td>85847</td>\n",
       "      <td>ES</td>\n",
       "      <td>100</td>\n",
       "      <td>ES</td>\n",
       "      <td>L</td>\n",
       "    </tr>\n",
       "    <tr>\n",
       "      <th>1</th>\n",
       "      <td>2023</td>\n",
       "      <td>MI</td>\n",
       "      <td>CT</td>\n",
       "      <td>ML Engineer</td>\n",
       "      <td>30000</td>\n",
       "      <td>USD</td>\n",
       "      <td>30000</td>\n",
       "      <td>US</td>\n",
       "      <td>100</td>\n",
       "      <td>US</td>\n",
       "      <td>S</td>\n",
       "    </tr>\n",
       "    <tr>\n",
       "      <th>2</th>\n",
       "      <td>2023</td>\n",
       "      <td>MI</td>\n",
       "      <td>CT</td>\n",
       "      <td>ML Engineer</td>\n",
       "      <td>25500</td>\n",
       "      <td>USD</td>\n",
       "      <td>25500</td>\n",
       "      <td>US</td>\n",
       "      <td>100</td>\n",
       "      <td>US</td>\n",
       "      <td>S</td>\n",
       "    </tr>\n",
       "  </tbody>\n",
       "</table>\n",
       "</div>"
      ],
      "text/plain": [
       "   work_year experience_level employment_type                 job_title  \\\n",
       "0       2023               SE              FT  Principal Data Scientist   \n",
       "1       2023               MI              CT               ML Engineer   \n",
       "2       2023               MI              CT               ML Engineer   \n",
       "\n",
       "   salary salary_currency  salary_in_usd employee_residence  remote_ratio  \\\n",
       "0   80000             EUR          85847                 ES           100   \n",
       "1   30000             USD          30000                 US           100   \n",
       "2   25500             USD          25500                 US           100   \n",
       "\n",
       "  company_location company_size  \n",
       "0               ES            L  \n",
       "1               US            S  \n",
       "2               US            S  "
      ]
     },
     "execution_count": 128,
     "metadata": {},
     "output_type": "execute_result"
    }
   ],
   "source": [
    "df = pd.read_csv('/Users/lia/Desktop/Upgrade_Hub/Temario/Modulo 1/1.4. Pandas/ejercicio_salarios/data/ds_salaries.csv')\n",
    "df.head(3)"
   ]
  },
  {
   "cell_type": "code",
   "execution_count": 34,
   "metadata": {},
   "outputs": [
    {
     "data": {
      "text/plain": [
       "Index(['work_year', 'experience_level', 'employment_type', 'job_title',\n",
       "       'salary', 'salary_currency', 'salary_in_usd', 'employee_residence',\n",
       "       'remote_ratio', 'company_location', 'company_size'],\n",
       "      dtype='object')"
      ]
     },
     "execution_count": 34,
     "metadata": {},
     "output_type": "execute_result"
    }
   ],
   "source": [
    "df.columns #nombre de las columnas"
   ]
  },
  {
   "cell_type": "code",
   "execution_count": 35,
   "metadata": {},
   "outputs": [
    {
     "data": {
      "text/plain": [
       "work_year              int64\n",
       "experience_level      object\n",
       "employment_type       object\n",
       "job_title             object\n",
       "salary                 int64\n",
       "salary_currency       object\n",
       "salary_in_usd          int64\n",
       "employee_residence    object\n",
       "remote_ratio           int64\n",
       "company_location      object\n",
       "company_size          object\n",
       "dtype: object"
      ]
     },
     "execution_count": 35,
     "metadata": {},
     "output_type": "execute_result"
    }
   ],
   "source": [
    "df.dtypes #entender el tipo de datos que hay en cada columna"
   ]
  },
  {
   "cell_type": "code",
   "execution_count": 36,
   "metadata": {},
   "outputs": [
    {
     "data": {
      "text/plain": [
       "work_year             0\n",
       "experience_level      0\n",
       "employment_type       0\n",
       "job_title             0\n",
       "salary                0\n",
       "salary_currency       0\n",
       "salary_in_usd         0\n",
       "employee_residence    0\n",
       "remote_ratio          0\n",
       "company_location      0\n",
       "company_size          0\n",
       "dtype: int64"
      ]
     },
     "execution_count": 36,
     "metadata": {},
     "output_type": "execute_result"
    }
   ],
   "source": [
    "df.isnull().sum() #verifico si hay nulos"
   ]
  },
  {
   "cell_type": "code",
   "execution_count": 37,
   "metadata": {},
   "outputs": [
    {
     "data": {
      "text/plain": [
       "np.int64(1171)"
      ]
     },
     "execution_count": 37,
     "metadata": {},
     "output_type": "execute_result"
    }
   ],
   "source": [
    "df.duplicated().sum() #verifico si hay duplicados"
   ]
  },
  {
   "cell_type": "code",
   "execution_count": 38,
   "metadata": {},
   "outputs": [
    {
     "data": {
      "text/plain": [
       "3755"
      ]
     },
     "execution_count": 38,
     "metadata": {},
     "output_type": "execute_result"
    }
   ],
   "source": [
    "df.shape[0] #tenia 1171 duplicados, con el shape veo que tenia 3755 filas en el dataset"
   ]
  },
  {
   "cell_type": "code",
   "execution_count": 40,
   "metadata": {},
   "outputs": [],
   "source": [
    "df.drop_duplicates(inplace=True) #eliminamos duplicados para que no interfieran en el analisis. "
   ]
  },
  {
   "cell_type": "code",
   "execution_count": 41,
   "metadata": {},
   "outputs": [
    {
     "data": {
      "text/plain": [
       "np.int64(0)"
      ]
     },
     "execution_count": 41,
     "metadata": {},
     "output_type": "execute_result"
    }
   ],
   "source": [
    "df.duplicated().sum() #reviso si hay duplicados despues del delete"
   ]
  },
  {
   "cell_type": "code",
   "execution_count": 42,
   "metadata": {},
   "outputs": [
    {
     "data": {
      "text/plain": [
       "2584"
      ]
     },
     "execution_count": 42,
     "metadata": {},
     "output_type": "execute_result"
    }
   ],
   "source": [
    "df.shape[0] #como es ahora mi df? ahora tiene 2584 filas"
   ]
  },
  {
   "cell_type": "markdown",
   "metadata": {},
   "source": [
    "### EDA\n"
   ]
  },
  {
   "cell_type": "markdown",
   "metadata": {},
   "source": [
    "### Cual es el tipo de empleo que gana mas dinero?"
   ]
  },
  {
   "cell_type": "code",
   "execution_count": 43,
   "metadata": {},
   "outputs": [
    {
     "data": {
      "text/plain": [
       "job_title\n",
       "Head of Machine Learning          6000000.00\n",
       "Principal Data Architect          3000000.00\n",
       "Lead Machine Learning Engineer    2548666.67\n",
       "Lead Data Scientist                928485.33\n",
       "Data Analytics Lead                922500.00\n",
       "                                     ...    \n",
       "Insight Analyst                     38500.00\n",
       "Compliance Data Analyst             30000.00\n",
       "Autonomous Vehicle Technician       26277.50\n",
       "Staff Data Analyst                  15000.00\n",
       "Product Data Scientist               8000.00\n",
       "Name: salary, Length: 93, dtype: float64"
      ]
     },
     "execution_count": 43,
     "metadata": {},
     "output_type": "execute_result"
    }
   ],
   "source": [
    "#primero saco la media de salario por job title en descendente para ver cuales son los mayores\n",
    "average_salary = df.groupby('job_title')['salary'].mean().sort_values(ascending=False).round(2)\n",
    "average_salary"
   ]
  },
  {
   "cell_type": "code",
   "execution_count": 44,
   "metadata": {},
   "outputs": [],
   "source": [
    "import matplotlib.pyplot as plt\n",
    "import seaborn as sns"
   ]
  },
  {
   "cell_type": "code",
   "execution_count": 139,
   "metadata": {},
   "outputs": [
    {
     "data": {
      "text/html": [
       "<div>\n",
       "<style scoped>\n",
       "    .dataframe tbody tr th:only-of-type {\n",
       "        vertical-align: middle;\n",
       "    }\n",
       "\n",
       "    .dataframe tbody tr th {\n",
       "        vertical-align: top;\n",
       "    }\n",
       "\n",
       "    .dataframe thead th {\n",
       "        text-align: right;\n",
       "    }\n",
       "</style>\n",
       "<table border=\"1\" class=\"dataframe\">\n",
       "  <thead>\n",
       "    <tr style=\"text-align: right;\">\n",
       "      <th></th>\n",
       "      <th>work_year</th>\n",
       "      <th>experience_level</th>\n",
       "      <th>employment_type</th>\n",
       "      <th>job_title</th>\n",
       "      <th>salary</th>\n",
       "      <th>salary_currency</th>\n",
       "      <th>salary_in_usd</th>\n",
       "      <th>employee_residence</th>\n",
       "      <th>remote_ratio</th>\n",
       "      <th>company_location</th>\n",
       "      <th>company_size</th>\n",
       "    </tr>\n",
       "  </thead>\n",
       "  <tbody>\n",
       "    <tr>\n",
       "      <th>3669</th>\n",
       "      <td>2021</td>\n",
       "      <td>MI</td>\n",
       "      <td>FT</td>\n",
       "      <td>Data Scientist</td>\n",
       "      <td>30400000</td>\n",
       "      <td>CLP</td>\n",
       "      <td>40038</td>\n",
       "      <td>CL</td>\n",
       "      <td>100</td>\n",
       "      <td>CL</td>\n",
       "      <td>L</td>\n",
       "    </tr>\n",
       "    <tr>\n",
       "      <th>3574</th>\n",
       "      <td>2021</td>\n",
       "      <td>MI</td>\n",
       "      <td>FT</td>\n",
       "      <td>BI Data Analyst</td>\n",
       "      <td>11000000</td>\n",
       "      <td>HUF</td>\n",
       "      <td>36259</td>\n",
       "      <td>HU</td>\n",
       "      <td>50</td>\n",
       "      <td>US</td>\n",
       "      <td>L</td>\n",
       "    </tr>\n",
       "    <tr>\n",
       "      <th>3646</th>\n",
       "      <td>2020</td>\n",
       "      <td>MI</td>\n",
       "      <td>FT</td>\n",
       "      <td>Data Scientist</td>\n",
       "      <td>11000000</td>\n",
       "      <td>HUF</td>\n",
       "      <td>35735</td>\n",
       "      <td>HU</td>\n",
       "      <td>50</td>\n",
       "      <td>HU</td>\n",
       "      <td>L</td>\n",
       "    </tr>\n",
       "    <tr>\n",
       "      <th>3475</th>\n",
       "      <td>2021</td>\n",
       "      <td>MI</td>\n",
       "      <td>FT</td>\n",
       "      <td>ML Engineer</td>\n",
       "      <td>8500000</td>\n",
       "      <td>JPY</td>\n",
       "      <td>77364</td>\n",
       "      <td>JP</td>\n",
       "      <td>50</td>\n",
       "      <td>JP</td>\n",
       "      <td>S</td>\n",
       "    </tr>\n",
       "    <tr>\n",
       "      <th>2966</th>\n",
       "      <td>2022</td>\n",
       "      <td>SE</td>\n",
       "      <td>FT</td>\n",
       "      <td>Lead Machine Learning Engineer</td>\n",
       "      <td>7500000</td>\n",
       "      <td>INR</td>\n",
       "      <td>95386</td>\n",
       "      <td>IN</td>\n",
       "      <td>50</td>\n",
       "      <td>IN</td>\n",
       "      <td>L</td>\n",
       "    </tr>\n",
       "    <tr>\n",
       "      <th>3476</th>\n",
       "      <td>2021</td>\n",
       "      <td>MI</td>\n",
       "      <td>FT</td>\n",
       "      <td>ML Engineer</td>\n",
       "      <td>7000000</td>\n",
       "      <td>JPY</td>\n",
       "      <td>63711</td>\n",
       "      <td>JP</td>\n",
       "      <td>50</td>\n",
       "      <td>JP</td>\n",
       "      <td>S</td>\n",
       "    </tr>\n",
       "    <tr>\n",
       "      <th>3754</th>\n",
       "      <td>2021</td>\n",
       "      <td>SE</td>\n",
       "      <td>FT</td>\n",
       "      <td>Data Science Manager</td>\n",
       "      <td>7000000</td>\n",
       "      <td>INR</td>\n",
       "      <td>94665</td>\n",
       "      <td>IN</td>\n",
       "      <td>50</td>\n",
       "      <td>IN</td>\n",
       "      <td>L</td>\n",
       "    </tr>\n",
       "    <tr>\n",
       "      <th>2358</th>\n",
       "      <td>2022</td>\n",
       "      <td>EN</td>\n",
       "      <td>FT</td>\n",
       "      <td>Data Scientist</td>\n",
       "      <td>6600000</td>\n",
       "      <td>HUF</td>\n",
       "      <td>17684</td>\n",
       "      <td>HU</td>\n",
       "      <td>100</td>\n",
       "      <td>HU</td>\n",
       "      <td>M</td>\n",
       "    </tr>\n",
       "    <tr>\n",
       "      <th>3192</th>\n",
       "      <td>2022</td>\n",
       "      <td>EX</td>\n",
       "      <td>FT</td>\n",
       "      <td>Head of Machine Learning</td>\n",
       "      <td>6000000</td>\n",
       "      <td>INR</td>\n",
       "      <td>76309</td>\n",
       "      <td>IN</td>\n",
       "      <td>50</td>\n",
       "      <td>IN</td>\n",
       "      <td>L</td>\n",
       "    </tr>\n",
       "    <tr>\n",
       "      <th>1462</th>\n",
       "      <td>2023</td>\n",
       "      <td>MI</td>\n",
       "      <td>FT</td>\n",
       "      <td>Head of Data Science</td>\n",
       "      <td>5000000</td>\n",
       "      <td>INR</td>\n",
       "      <td>60795</td>\n",
       "      <td>IN</td>\n",
       "      <td>50</td>\n",
       "      <td>IN</td>\n",
       "      <td>L</td>\n",
       "    </tr>\n",
       "  </tbody>\n",
       "</table>\n",
       "</div>"
      ],
      "text/plain": [
       "      work_year experience_level employment_type  \\\n",
       "3669       2021               MI              FT   \n",
       "3574       2021               MI              FT   \n",
       "3646       2020               MI              FT   \n",
       "3475       2021               MI              FT   \n",
       "2966       2022               SE              FT   \n",
       "3476       2021               MI              FT   \n",
       "3754       2021               SE              FT   \n",
       "2358       2022               EN              FT   \n",
       "3192       2022               EX              FT   \n",
       "1462       2023               MI              FT   \n",
       "\n",
       "                           job_title    salary salary_currency  salary_in_usd  \\\n",
       "3669                  Data Scientist  30400000             CLP          40038   \n",
       "3574                 BI Data Analyst  11000000             HUF          36259   \n",
       "3646                  Data Scientist  11000000             HUF          35735   \n",
       "3475                     ML Engineer   8500000             JPY          77364   \n",
       "2966  Lead Machine Learning Engineer   7500000             INR          95386   \n",
       "3476                     ML Engineer   7000000             JPY          63711   \n",
       "3754            Data Science Manager   7000000             INR          94665   \n",
       "2358                  Data Scientist   6600000             HUF          17684   \n",
       "3192        Head of Machine Learning   6000000             INR          76309   \n",
       "1462            Head of Data Science   5000000             INR          60795   \n",
       "\n",
       "     employee_residence  remote_ratio company_location company_size  \n",
       "3669                 CL           100               CL            L  \n",
       "3574                 HU            50               US            L  \n",
       "3646                 HU            50               HU            L  \n",
       "3475                 JP            50               JP            S  \n",
       "2966                 IN            50               IN            L  \n",
       "3476                 JP            50               JP            S  \n",
       "3754                 IN            50               IN            L  \n",
       "2358                 HU           100               HU            M  \n",
       "3192                 IN            50               IN            L  \n",
       "1462                 IN            50               IN            L  "
      ]
     },
     "execution_count": 139,
     "metadata": {},
     "output_type": "execute_result"
    }
   ],
   "source": [
    "#paso a hacer el grafico, para ello, tengo que pasar a df los datos, hago el reset index para colocarlo\n",
    "avg_salary_df = pd.DataFrame(average_salary).reset_index()\n",
    "avg_salary_df.columns = ['job_title', 'salary']\n",
    "\n",
    "#como son muchos job titles, selecciono un grupo de top 5 jobs y verifico que está ok la tabla\n",
    "top10_salaries = df.nlargest(10, 'salary')\n",
    "top10_salaries"
   ]
  },
  {
   "cell_type": "code",
   "execution_count": 140,
   "metadata": {},
   "outputs": [
    {
     "data": {
      "image/png": "[encoded data removed]",
      "text/plain": [
       "<Figure size 2000x400 with 1 Axes>"
      ]
     },
     "metadata": {},
     "output_type": "display_data"
    }
   ],
   "source": [
    "#paso a construir el grafico, voy a hacer un grafico de barras con la variable top 5 que cree antes\n",
    "fig = plt.figure(figsize=(20, 4))\n",
    "sns.barplot(x='job_title',y='salary',data=top10_salaries, palette='rainbow', hue='job_title', errorbar=None)\n",
    "plt.xticks(rotation=0)\n",
    "plt.title('Top 10 Jobs by Salary')\n",
    "plt.xlabel('Job Title')\n",
    "plt.ylabel('Salary')\n",
    "plt.show()"
   ]
  },
  {
   "cell_type": "markdown",
   "metadata": {},
   "source": [
    "### Donde estan localizadas las companias que mas pagan?"
   ]
  },
  {
   "cell_type": "code",
   "execution_count": 71,
   "metadata": {},
   "outputs": [
    {
     "data": {
      "text/plain": [
       "np.int64(30400000)"
      ]
     },
     "execution_count": 71,
     "metadata": {},
     "output_type": "execute_result"
    }
   ],
   "source": [
    "df['salary'].max()"
   ]
  },
  {
   "cell_type": "code",
   "execution_count": 70,
   "metadata": {},
   "outputs": [
    {
     "name": "stdout",
     "output_type": "stream",
     "text": [
      "Las empresas que más pagan están ubicadas en CL siendo el salario mayor de 30400000.0\n"
     ]
    }
   ],
   "source": [
    "salario_medio_por_ubicacion = df.groupby('company_location')['salary'].mean()\n",
    "\n",
    "ubicacion_empresa_mayor_salario = salario_medio_por_ubicacion.idxmax()\n",
    "\n",
    "salario_maximo = salario_medio_por_ubicacion.max()\n",
    "\n",
    "print(f'Las empresas que más pagan están ubicadas en {ubicacion_empresa_mayor_salario} siendo el salario mayor de {salario_maximo}')"
   ]
  },
  {
   "cell_type": "code",
   "execution_count": 87,
   "metadata": {},
   "outputs": [],
   "source": [
    "df_salario_medio = pd.DataFrame(salario_medio_por_ubicacion)"
   ]
  },
  {
   "cell_type": "code",
   "execution_count": 145,
   "metadata": {},
   "outputs": [
    {
     "data": {
      "text/plain": [
       "Text(0, 0.5, 'Salary')"
      ]
     },
     "execution_count": 145,
     "metadata": {},
     "output_type": "execute_result"
    },
    {
     "data": {
      "image/png": "[encoded data removed]",
      "text/plain": [
       "<Figure size 1600x600 with 1 Axes>"
      ]
     },
     "metadata": {},
     "output_type": "display_data"
    }
   ],
   "source": [
    "#hacemos el grafico basado en los top 10 salarios anteriores, comparando ahora con la company location\n",
    "fig = plt.figure(figsize=(16, 6))\n",
    "sns.barplot(x='company_location',y='salary',data=top5_salaries, palette='plasma', hue='company_location', errorbar=None)\n",
    "plt.title('Top 5 Location')\n",
    "plt.xlabel('Company Location')\n",
    "plt.ylabel('Salary')\n"
   ]
  },
  {
   "cell_type": "code",
   "execution_count": 121,
   "metadata": {},
   "outputs": [
    {
     "data": {
      "image/png": "[encoded data removed]",
      "text/plain": [
       "<Figure size 1600x600 with 1 Axes>"
      ]
     },
     "metadata": {},
     "output_type": "display_data"
    }
   ],
   "source": [
    "\n",
    "# Crear el gráfico de barras\n",
    "fig = plt.figure(figsize=(16, 6))\n",
    "ax = sns.barplot(x='company_location', y='salary', data=top5_salaries, palette='rainbow', hue='company_location', errorbar=None)\n",
    "\n",
    "# Añadir el valor del salario dentro de cada barra\n",
    "for p in ax.patches:\n",
    "    ax.annotate(f'{p.get_height():,.0f}', \n",
    "                (p.get_x() + p.get_width() / 2., p.get_height()),  # Posición del texto\n",
    "                ha='center', \n",
    "                va='center',  # Alineación vertical del texto\n",
    "                fontsize=12, \n",
    "                color='black', \n",
    "                xytext=(0, 5),  # Mueve el texto hacia arriba\n",
    "                textcoords='offset points')\n",
    "\n",
    "# Añadir títulos y etiquetas\n",
    "plt.title('Top 5 Locations')\n",
    "plt.xlabel('Company Location')\n",
    "plt.ylabel('Salary')\n",
    "\n",
    "plt.show()\n"
   ]
  },
  {
   "cell_type": "markdown",
   "metadata": {},
   "source": [
    "### Cual es el tipo de empleo que permite mas trabajo remoto?\n"
   ]
  },
  {
   "cell_type": "code",
   "execution_count": 20,
   "metadata": {},
   "outputs": [
    {
     "data": {
      "text/plain": [
       "remote_ratio\n",
       "100    1211\n",
       "0      1186\n",
       "50      187\n",
       "Name: count, dtype: int64"
      ]
     },
     "execution_count": 20,
     "metadata": {},
     "output_type": "execute_result"
    }
   ],
   "source": [
    "df['remote_ratio'].value_counts()"
   ]
  },
  {
   "cell_type": "code",
   "execution_count": 21,
   "metadata": {},
   "outputs": [
    {
     "data": {
      "text/plain": [
       "job_title\n",
       "Data Engineer                        287\n",
       "Data Scientist                       237\n",
       "Data Analyst                         194\n",
       "Machine Learning Engineer             90\n",
       "Analytics Engineer                    50\n",
       "                                    ... \n",
       "BI Data Engineer                       1\n",
       "Applied Machine Learning Engineer      1\n",
       "Compliance Data Analyst                1\n",
       "Data Quality Analyst                   1\n",
       "Staff Data Scientist                   1\n",
       "Name: count, Length: 75, dtype: int64"
      ]
     },
     "execution_count": 21,
     "metadata": {},
     "output_type": "execute_result"
    }
   ],
   "source": [
    "df[df['remote_ratio'] == 100]['job_title'].value_counts()"
   ]
  },
  {
   "cell_type": "markdown",
   "metadata": {},
   "source": [
    "### salario promedio de Data Scientist"
   ]
  },
  {
   "cell_type": "code",
   "execution_count": 36,
   "metadata": {},
   "outputs": [
    {
     "data": {
      "text/plain": [
       "np.float64(286453.71375464683)"
      ]
     },
     "execution_count": 36,
     "metadata": {},
     "output_type": "execute_result"
    }
   ],
   "source": [
    "data_scientists = df[df['job_title'] == 'Data Scientist'] #primero saco el numero de data scientists, si el job title coincide\n",
    "salario_medio = data_scientists['salary'].mean() #despues saco la media del salario de ese grupo\n",
    "salario_medio"
   ]
  },
  {
   "cell_type": "code",
   "execution_count": null,
   "metadata": {},
   "outputs": [],
   "source": []
  },
  {
   "cell_type": "markdown",
   "metadata": {},
   "source": [
    "### ¿cuantas personas ganan por encima de los 200ks?"
   ]
  },
  {
   "cell_type": "code",
   "execution_count": 94,
   "metadata": {},
   "outputs": [
    {
     "data": {
      "text/plain": [
       "450"
      ]
     },
     "execution_count": 94,
     "metadata": {},
     "output_type": "execute_result"
    }
   ],
   "source": [
    "# Filtrar las personas que ganan más de 200,000 USD y contar el número de filas\n",
    "above_200k_count = df[df['salary_in_usd'] > 200000].shape[0]\n",
    "df[df['salary']>200000].shape[0]"
   ]
  },
  {
   "cell_type": "code",
   "execution_count": 25,
   "metadata": {},
   "outputs": [
    {
     "data": {
      "text/plain": [
       "450"
      ]
     },
     "execution_count": 25,
     "metadata": {},
     "output_type": "execute_result"
    }
   ],
   "source": [
    "len(df[df['salary']>200000])"
   ]
  },
  {
   "cell_type": "code",
   "execution_count": 95,
   "metadata": {},
   "outputs": [
    {
     "data": {
      "image/png": "[encoded data removed]",
      "text/plain": [
       "<Figure size 800x600 with 1 Axes>"
      ]
     },
     "metadata": {},
     "output_type": "display_data"
    }
   ],
   "source": [
    "# Con el dato anterior, voy a visualizarlo para ver de todo el DataFrame cuantos estan por encima de 200K y por debajo para hacernos una idea del rango. \n",
    "\n",
    "# Crear categorías de salarios\n",
    "df['salary_category'] = df['salary'].apply(lambda x: 'Above 200K' if x > 200000 else 'Below 200K')\n",
    "\n",
    "# Contar cuántas personas hay en cada categoría\n",
    "salary_count = df['salary_category'].value_counts()\n",
    "\n",
    "# Crear gráfico de barras\n",
    "fig = plt.figure(figsize=(8, 6))\n",
    "sns.barplot(x=salary_count.index, y=salary_count.values, palette='coolwarm')\n",
    "\n",
    "# Añadir títulos y etiquetas\n",
    "plt.title('Number of People Above and Below 200K')\n",
    "plt.xlabel('Salary Category')\n",
    "plt.ylabel('Number of People')\n",
    "\n",
    "plt.show()\n"
   ]
  },
  {
   "cell_type": "code",
   "execution_count": 127,
   "metadata": {},
   "outputs": [
    {
     "data": {
      "image/png": "[encoded data removed]",
      "text/plain": [
       "<Figure size 400x400 with 1 Axes>"
      ]
     },
     "metadata": {},
     "output_type": "display_data"
    }
   ],
   "source": [
    "#hago lo mismo visualizado en piechart \n",
    "# Definir colores personalizados para el gráfico de pastel\n",
    "colors = ['#ff9999', '#66b3ff']  # Rojo claro y azul claro\n",
    "\n",
    "# Crear gráfico de pastel con los colores definidos\n",
    "fig, ax = plt.subplots(figsize=(4, 4))\n",
    "ax.pie(salary_count, labels=salary_count.index, autopct='%1.1f%%', colors=colors)\n",
    "\n",
    "# Añadir título\n",
    "plt.title('Proportion of People Above and Below 200K')\n",
    "\n",
    "plt.show()\n",
    "\n"
   ]
  },
  {
   "cell_type": "code",
   "execution_count": null,
   "metadata": {},
   "outputs": [],
   "source": []
  },
  {
   "cell_type": "markdown",
   "metadata": {},
   "source": [
    "### ¿ cual es el salario promedio de los empleados Data Modeler en SE"
   ]
  },
  {
   "cell_type": "code",
   "execution_count": 47,
   "metadata": {},
   "outputs": [
    {
     "data": {
      "text/plain": [
       "np.float64(118900.0)"
      ]
     },
     "execution_count": 47,
     "metadata": {},
     "output_type": "execute_result"
    }
   ],
   "source": [
    "df[(df['job_title'] == 'Data Modeler') & (df['experience_level'] == 'SE')]['salary_in_usd'].mean()"
   ]
  },
  {
   "cell_type": "markdown",
   "metadata": {},
   "source": [
    "#### # Voy a crear un grafico con el salario medio por pais"
   ]
  },
  {
   "cell_type": "code",
   "execution_count": 125,
   "metadata": {},
   "outputs": [
    {
     "name": "stdout",
     "output_type": "stream",
     "text": [
      "   company_location  average_salary\n",
      "0                AE   100000.000000\n",
      "1                AL    10000.000000\n",
      "2                AM    50000.000000\n",
      "3                AR    25000.000000\n",
      "4                AS    29351.000000\n",
      "..              ...             ...\n",
      "67               TH    23064.333333\n",
      "68               TR    19058.000000\n",
      "69               UA    57850.000000\n",
      "70               US   152374.791602\n",
      "71               VN    12000.000000\n",
      "\n",
      "[72 rows x 2 columns]\n"
     ]
    }
   ],
   "source": [
    "# Agrupar por país y calcular el salario medio\n",
    "average_salary_by_country = df.groupby('company_location')['salary_in_usd'].mean().reset_index()\n",
    "\n",
    "# Renombrar las columnas para mayor claridad\n",
    "average_salary_by_country.columns = ['company_location', 'average_salary']\n",
    "\n",
    "# Mostrar el resultado\n",
    "print(average_salary_by_country)\n"
   ]
  },
  {
   "cell_type": "code",
   "execution_count": 123,
   "metadata": {},
   "outputs": [
    {
     "data": {
      "text/plain": [
       "np.float64(133409.28018575851)"
      ]
     },
     "execution_count": 123,
     "metadata": {},
     "output_type": "execute_result"
    }
   ],
   "source": [
    "\n",
    "\n",
    "# Supongamos que tu DataFrame se llama average_salary_by_country\n",
    "# Y tiene las columnas 'country' y 'average_salary'\n",
    "\n",
    "# Ejemplo de cómo podría verse el DataFrame\n",
    "# average_salary_by_country = pd.DataFrame({\n",
    "#     'country': ['Country A', 'Country B', 'Country C', 'Country D'],\n",
    "#     'average_salary': [75000, 85000, 95000, 60000]\n",
    "# })\n",
    "\n",
    "# Crear el gráfico de dispersión\n",
    "average_salary = df['salary_in_usd'].mean()\n",
    "\n",
    "plt.figure(figsize=(12, 6))\n",
    "sns.scatterplot(data=average_salary_by_country, x='country', y='average_salary', palette='rainbow', s=100)\n",
    "\n",
    "# Añadir títulos y etiquetas\n",
    "plt.title('Average Salary by Country')\n",
    "plt.xlabel('Country')\n",
    "plt.ylabel('Average Salary')\n",
    "\n",
    "# Añadir el valor del salario medio encima de cada punto\n",
    "for i in range(average_salary_by_country.shape[0]):\n",
    "    plt.text(x=average_salary_by_country['country'][i], \n",
    "             y=average_salary_by_country['average_salary'][i], \n",
    "             s=f'{average_salary_by_country[\"average_salary\"][i]:,.0f}', \n",
    "             ha='center', va='bottom', fontsize=10)\n",
    "\n",
    "plt.xticks(rotation=45)  # Rota las etiquetas del eje x si es necesario\n",
    "plt.tight_layout()  # Ajusta el layout para que no se superpongan las etiquetas\n",
    "\n",
    "plt.show()\n"
   ]
  },
  {
   "cell_type": "markdown",
   "metadata": {},
   "source": [
    "Para los ML Engineer, que diferencia de salario hay entre full time y part time?"
   ]
  },
  {
   "cell_type": "code",
   "execution_count": 53,
   "metadata": {},
   "outputs": [
    {
     "name": "stdout",
     "output_type": "stream",
     "text": [
      "salary_in_usd    152117.9\n",
      "dtype: float64\n",
      "salary_in_usd    0.905012\n",
      "dtype: float64\n",
      "salary_in_usd    10.527615\n",
      "dtype: float64\n"
     ]
    }
   ],
   "source": [
    "salary_FT = df[['employment_type', 'salary_in_usd']][df['job_title'] == 'ML Engineer'].groupby('employment_type').mean().loc['FT']\n",
    "salary_PT = df[['employment_type', 'salary_in_usd']][df['job_title'] == 'ML Engineer'].groupby('employment_type').mean().loc['PT']\n",
    "\n",
    "print(salary_FT - salary_PT) #diferencia en valor absoluto\n",
    "print((salary_FT-salary_PT) / salary_FT) #me da el porcentaje\n",
    "print(salary_FT/salary_PT) #me da las veces que gana mas (10 veces mas)"
   ]
  },
  {
   "cell_type": "markdown",
   "metadata": {},
   "source": [
    "### Cual es el employment type mas frecuente entre los Business Data Analyst"
   ]
  },
  {
   "cell_type": "code",
   "execution_count": 57,
   "metadata": {},
   "outputs": [
    {
     "data": {
      "text/plain": [
       "employment_type\n",
       "FT    390\n",
       "PT      5\n",
       "CT      1\n",
       "Name: count, dtype: int64"
      ]
     },
     "execution_count": 57,
     "metadata": {},
     "output_type": "execute_result"
    }
   ],
   "source": [
    "df[df['job_title'] == 'Data Analyst']['employment_type'].value_counts().head()"
   ]
  },
  {
   "cell_type": "code",
   "execution_count": 58,
   "metadata": {},
   "outputs": [
    {
     "data": {
      "text/plain": [
       "0    FT\n",
       "Name: employment_type, dtype: object"
      ]
     },
     "execution_count": 58,
     "metadata": {},
     "output_type": "execute_result"
    }
   ],
   "source": [
    "df[df['job_title'] == 'Data Analyst']['employment_type'].mode()"
   ]
  },
  {
   "cell_type": "code",
   "execution_count": 100,
   "metadata": {},
   "outputs": [
    {
     "data": {
      "text/html": [
       "<div>\n",
       "<style scoped>\n",
       "    .dataframe tbody tr th:only-of-type {\n",
       "        vertical-align: middle;\n",
       "    }\n",
       "\n",
       "    .dataframe tbody tr th {\n",
       "        vertical-align: top;\n",
       "    }\n",
       "\n",
       "    .dataframe thead th {\n",
       "        text-align: right;\n",
       "    }\n",
       "</style>\n",
       "<table border=\"1\" class=\"dataframe\">\n",
       "  <thead>\n",
       "    <tr style=\"text-align: right;\">\n",
       "      <th></th>\n",
       "      <th>employment_type</th>\n",
       "      <th>job_title</th>\n",
       "      <th>count</th>\n",
       "    </tr>\n",
       "  </thead>\n",
       "  <tbody>\n",
       "    <tr>\n",
       "      <th>0</th>\n",
       "      <td>FT</td>\n",
       "      <td>Business Data Analyst</td>\n",
       "      <td>14</td>\n",
       "    </tr>\n",
       "    <tr>\n",
       "      <th>1</th>\n",
       "      <td>CT</td>\n",
       "      <td>Business Data Analyst</td>\n",
       "      <td>1</td>\n",
       "    </tr>\n",
       "  </tbody>\n",
       "</table>\n",
       "</div>"
      ],
      "text/plain": [
       "  employment_type              job_title  count\n",
       "0              FT  Business Data Analyst     14\n",
       "1              CT  Business Data Analyst      1"
      ]
     },
     "execution_count": 100,
     "metadata": {},
     "output_type": "execute_result"
    }
   ],
   "source": [
    "Business_Analyst_ET = pd.DataFrame(df[['employment_type','job_title']][df['job_title'] == 'Business Data Analyst'].value_counts()).reset_index()\n",
    "Business_Analyst_ET"
   ]
  },
  {
   "cell_type": "code",
   "execution_count": 126,
   "metadata": {},
   "outputs": [
    {
     "data": {
      "image/png": "[encoded data removed]",
      "text/plain": [
       "<Figure size 400x400 with 1 Axes>"
      ]
     },
     "metadata": {},
     "output_type": "display_data"
    }
   ],
   "source": [
    "\n",
    "Business_Analyst_ET = df[df['job_title'] == 'Business Data Analyst']['employment_type'].value_counts().reset_index()\n",
    "\n",
    "# Renombrar las columnas del DataFrame\n",
    "Business_Analyst_ET.columns = ['employment_type', 'count']  # Asegúrate de que haya dos columnas\n",
    "\n",
    "# Definir colores personalizados para el gráfico de pastel\n",
    "colors = ['#ff9999', '#66b3ff', '#99ff99', '#ffcc99'] \n",
    "\n",
    "# Crear gráfico de pastel\n",
    "fig, ax = plt.subplots(figsize=(4, 4))\n",
    "ax.pie(Business_Analyst_ET['count'], labels=Business_Analyst_ET['employment_type'], autopct='%1.1f%%', colors=colors)\n",
    "\n",
    "# Añadir título\n",
    "plt.title('Distribution of Employment Types for Business Data Analyst')\n",
    "\n",
    "plt.show()\n",
    "\n",
    "\n"
   ]
  },
  {
   "cell_type": "markdown",
   "metadata": {},
   "source": [
    "### En qué país, en cuanto a localización de la compañía, hay mayor ratio de teletrabajo?"
   ]
  },
  {
   "cell_type": "code",
   "execution_count": 59,
   "metadata": {},
   "outputs": [
    {
     "data": {
      "text/html": [
       "<div>\n",
       "<style scoped>\n",
       "    .dataframe tbody tr th:only-of-type {\n",
       "        vertical-align: middle;\n",
       "    }\n",
       "\n",
       "    .dataframe tbody tr th {\n",
       "        vertical-align: top;\n",
       "    }\n",
       "\n",
       "    .dataframe thead th {\n",
       "        text-align: right;\n",
       "    }\n",
       "</style>\n",
       "<table border=\"1\" class=\"dataframe\">\n",
       "  <thead>\n",
       "    <tr style=\"text-align: right;\">\n",
       "      <th></th>\n",
       "      <th>work_year</th>\n",
       "      <th>experience_level</th>\n",
       "      <th>employment_type</th>\n",
       "      <th>job_title</th>\n",
       "      <th>salary</th>\n",
       "      <th>salary_currency</th>\n",
       "      <th>salary_in_usd</th>\n",
       "      <th>employee_residence</th>\n",
       "      <th>remote_ratio</th>\n",
       "      <th>company_location</th>\n",
       "      <th>company_size</th>\n",
       "    </tr>\n",
       "  </thead>\n",
       "  <tbody>\n",
       "    <tr>\n",
       "      <th>0</th>\n",
       "      <td>2023</td>\n",
       "      <td>SE</td>\n",
       "      <td>FT</td>\n",
       "      <td>Principal Data Scientist</td>\n",
       "      <td>80000</td>\n",
       "      <td>EUR</td>\n",
       "      <td>85847</td>\n",
       "      <td>ES</td>\n",
       "      <td>100</td>\n",
       "      <td>ES</td>\n",
       "      <td>L</td>\n",
       "    </tr>\n",
       "    <tr>\n",
       "      <th>1</th>\n",
       "      <td>2023</td>\n",
       "      <td>MI</td>\n",
       "      <td>CT</td>\n",
       "      <td>ML Engineer</td>\n",
       "      <td>30000</td>\n",
       "      <td>USD</td>\n",
       "      <td>30000</td>\n",
       "      <td>US</td>\n",
       "      <td>100</td>\n",
       "      <td>US</td>\n",
       "      <td>S</td>\n",
       "    </tr>\n",
       "    <tr>\n",
       "      <th>2</th>\n",
       "      <td>2023</td>\n",
       "      <td>MI</td>\n",
       "      <td>CT</td>\n",
       "      <td>ML Engineer</td>\n",
       "      <td>25500</td>\n",
       "      <td>USD</td>\n",
       "      <td>25500</td>\n",
       "      <td>US</td>\n",
       "      <td>100</td>\n",
       "      <td>US</td>\n",
       "      <td>S</td>\n",
       "    </tr>\n",
       "    <tr>\n",
       "      <th>3</th>\n",
       "      <td>2023</td>\n",
       "      <td>SE</td>\n",
       "      <td>FT</td>\n",
       "      <td>Data Scientist</td>\n",
       "      <td>175000</td>\n",
       "      <td>USD</td>\n",
       "      <td>175000</td>\n",
       "      <td>CA</td>\n",
       "      <td>100</td>\n",
       "      <td>CA</td>\n",
       "      <td>M</td>\n",
       "    </tr>\n",
       "    <tr>\n",
       "      <th>4</th>\n",
       "      <td>2023</td>\n",
       "      <td>SE</td>\n",
       "      <td>FT</td>\n",
       "      <td>Data Scientist</td>\n",
       "      <td>120000</td>\n",
       "      <td>USD</td>\n",
       "      <td>120000</td>\n",
       "      <td>CA</td>\n",
       "      <td>100</td>\n",
       "      <td>CA</td>\n",
       "      <td>M</td>\n",
       "    </tr>\n",
       "  </tbody>\n",
       "</table>\n",
       "</div>"
      ],
      "text/plain": [
       "   work_year experience_level employment_type                 job_title  \\\n",
       "0       2023               SE              FT  Principal Data Scientist   \n",
       "1       2023               MI              CT               ML Engineer   \n",
       "2       2023               MI              CT               ML Engineer   \n",
       "3       2023               SE              FT            Data Scientist   \n",
       "4       2023               SE              FT            Data Scientist   \n",
       "\n",
       "   salary salary_currency  salary_in_usd employee_residence  remote_ratio  \\\n",
       "0   80000             EUR          85847                 ES           100   \n",
       "1   30000             USD          30000                 US           100   \n",
       "2   25500             USD          25500                 US           100   \n",
       "3  175000             USD         175000                 CA           100   \n",
       "4  120000             USD         120000                 CA           100   \n",
       "\n",
       "  company_location company_size  \n",
       "0               ES            L  \n",
       "1               US            S  \n",
       "2               US            S  \n",
       "3               CA            M  \n",
       "4               CA            M  "
      ]
     },
     "execution_count": 59,
     "metadata": {},
     "output_type": "execute_result"
    }
   ],
   "source": [
    "df.head()"
   ]
  },
  {
   "cell_type": "code",
   "execution_count": null,
   "metadata": {},
   "outputs": [],
   "source": [
    "df[['remote_ratio'] == 100]['company_location']"
   ]
  },
  {
   "cell_type": "code",
   "execution_count": null,
   "metadata": {},
   "outputs": [],
   "source": [
    "df['remot_ration']"
   ]
  },
  {
   "cell_type": "code",
   "execution_count": 66,
   "metadata": {},
   "outputs": [
    {
     "data": {
      "text/plain": [
       "company_location\n",
       "PL    100.0\n",
       "KE    100.0\n",
       "MY    100.0\n",
       "AR    100.0\n",
       "PR    100.0\n",
       "IR    100.0\n",
       "NG    100.0\n",
       "EG    100.0\n",
       "PH    100.0\n",
       "CR    100.0\n",
       "SK    100.0\n",
       "CL    100.0\n",
       "CF    100.0\n",
       "Name: remote_ratio, dtype: float64"
      ]
     },
     "execution_count": 66,
     "metadata": {},
     "output_type": "execute_result"
    }
   ],
   "source": [
    "remote_per_country = df.groupby(['company_location'])['remote_ratio'].mean().sort_values(ascending=False)\n",
    "remote_per_country[remote_per_country == 100]"
   ]
  },
  {
   "cell_type": "code",
   "execution_count": null,
   "metadata": {},
   "outputs": [],
   "source": []
  }
 ],
 "metadata": {
  "kernelspec": {
   "display_name": "Python 3",
   "language": "python",
   "name": "python3"
  },
  "language_info": {
   "codemirror_mode": {
    "name": "ipython",
    "version": 3
   },
   "file_extension": ".py",
   "mimetype": "text/x-python",
   "name": "python",
   "nbconvert_exporter": "python",
   "pygments_lexer": "ipython3",
   "version": "3.9.6"
  }
 },
 "nbformat": 4,
 "nbformat_minor": 2
}
